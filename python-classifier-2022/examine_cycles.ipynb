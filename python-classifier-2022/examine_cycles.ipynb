{
 "cells": [
  {
   "cell_type": "code",
   "execution_count": 5,
   "metadata": {},
   "outputs": [
    {
     "name": "stdout",
     "output_type": "stream",
     "text": [
      "The autoreload extension is already loaded. To reload it, use:\n",
      "  %reload_ext autoreload\n"
     ]
    }
   ],
   "source": [
    "%load_ext autoreload\n",
    "%autoreload 2"
   ]
  },
  {
   "cell_type": "code",
   "execution_count": 6,
   "metadata": {},
   "outputs": [],
   "source": [
    "\n",
    "from tqdm.notebook import tqdm\n",
    "\n",
    "from extract_features import *\n",
    "from concurrent.futures import ProcessPoolExecutor, as_completed"
   ]
  },
  {
   "cell_type": "code",
   "execution_count": 21,
   "metadata": {},
   "outputs": [],
   "source": [
    "def find_max_duration(cardiac_states):\n",
    "    state_starts = cardiac_states[0]\n",
    "    state_ends = cardiac_states[1]\n",
    "    no_cycles = state_starts.shape[1]\n",
    "\n",
    "    max_duration = -1\n",
    "\n",
    "    for i in range(no_cycles):\n",
    "        if np.any(np.isnan([state_ends[3, i], state_starts[0, i]])):\n",
    "            continue\n",
    "        \n",
    "        cur_duration = state_ends[3, i] - state_starts[0, i]\n",
    "        tqdm.write(str(cur_duration))\n",
    "        \n",
    "        if cur_duration > max_duration:\n",
    "            max_duration = cur_duration\n",
    "\n",
    "    return max_duration"
   ]
  },
  {
   "cell_type": "code",
   "execution_count": 11,
   "metadata": {},
   "outputs": [
    {
     "data": {
      "application/vnd.jupyter.widget-view+json": {
       "model_id": "162055e3bb264ef89fa5d1232304dd8d",
       "version_major": 2,
       "version_minor": 0
      },
      "text/plain": [
       "Patients:   0%|          | 0/942 [00:00<?, ?it/s]"
      ]
     },
     "metadata": {},
     "output_type": "display_data"
    },
    {
     "name": "stdout",
     "output_type": "stream",
     "text": [
      "Current max cycle no: 17\n",
      "Current max cycle no: 24\n",
      "Current max cycle no: 42\n",
      "Current max cycle no: 43\n",
      "Current max cycle no: 46\n",
      "Current max cycle no: 47\n",
      "Current max cycle no: 66\n",
      "Current max cycle no: 78\n",
      "Current max cycle no: 93\n",
      "Unexpected exception formatting exception. Falling back to standard exception\n"
     ]
    },
    {
     "name": "stderr",
     "output_type": "stream",
     "text": [
      "Traceback (most recent call last):\n",
      "  File \"c:\\Users\\lumin\\anaconda3\\envs\\py38\\lib\\site-packages\\IPython\\core\\interactiveshell.py\", line 3398, in run_code\n",
      "    exec(code_obj, self.user_global_ns, self.user_ns)\n",
      "  File \"C:\\Users\\lumin\\AppData\\Local\\Temp\\ipykernel_25056\\1478479149.py\", line 26, in <cell line: 14>\n",
      "    cardiac_cycles = AudioUtil.split_cardiac_cycles(current_recordings_paths[j], cardiac_states)\n",
      "  File \"c:\\Users\\lumin\\Desktop\\Work\\20212\\source-code\\python-classifier-2022\\audio_util.py\", line 223, in split_cardiac_cycles\n",
      "    state_starts = cardiac_states[0]\n",
      "TypeError: 'NoneType' object is not subscriptable\n",
      "\n",
      "During handling of the above exception, another exception occurred:\n",
      "\n",
      "Traceback (most recent call last):\n",
      "  File \"c:\\Users\\lumin\\anaconda3\\envs\\py38\\lib\\site-packages\\IPython\\core\\interactiveshell.py\", line 1993, in showtraceback\n",
      "    stb = self.InteractiveTB.structured_traceback(\n",
      "  File \"c:\\Users\\lumin\\anaconda3\\envs\\py38\\lib\\site-packages\\IPython\\core\\ultratb.py\", line 1118, in structured_traceback\n",
      "    return FormattedTB.structured_traceback(\n",
      "  File \"c:\\Users\\lumin\\anaconda3\\envs\\py38\\lib\\site-packages\\IPython\\core\\ultratb.py\", line 1012, in structured_traceback\n",
      "    return VerboseTB.structured_traceback(\n",
      "  File \"c:\\Users\\lumin\\anaconda3\\envs\\py38\\lib\\site-packages\\IPython\\core\\ultratb.py\", line 865, in structured_traceback\n",
      "    formatted_exception = self.format_exception_as_a_whole(etype, evalue, etb, number_of_lines_of_context,\n",
      "  File \"c:\\Users\\lumin\\anaconda3\\envs\\py38\\lib\\site-packages\\IPython\\core\\ultratb.py\", line 818, in format_exception_as_a_whole\n",
      "    frames.append(self.format_record(r))\n",
      "  File \"c:\\Users\\lumin\\anaconda3\\envs\\py38\\lib\\site-packages\\IPython\\core\\ultratb.py\", line 736, in format_record\n",
      "    result += ''.join(_format_traceback_lines(frame_info.lines, Colors, self.has_colors, lvals))\n",
      "  File \"c:\\Users\\lumin\\anaconda3\\envs\\py38\\lib\\site-packages\\stack_data\\utils.py\", line 145, in cached_property_wrapper\n",
      "    value = obj.__dict__[self.func.__name__] = self.func(obj)\n",
      "  File \"c:\\Users\\lumin\\anaconda3\\envs\\py38\\lib\\site-packages\\stack_data\\core.py\", line 698, in lines\n",
      "    pieces = self.included_pieces\n",
      "  File \"c:\\Users\\lumin\\anaconda3\\envs\\py38\\lib\\site-packages\\stack_data\\utils.py\", line 145, in cached_property_wrapper\n",
      "    value = obj.__dict__[self.func.__name__] = self.func(obj)\n",
      "  File \"c:\\Users\\lumin\\anaconda3\\envs\\py38\\lib\\site-packages\\stack_data\\core.py\", line 649, in included_pieces\n",
      "    pos = scope_pieces.index(self.executing_piece)\n",
      "  File \"c:\\Users\\lumin\\anaconda3\\envs\\py38\\lib\\site-packages\\stack_data\\utils.py\", line 145, in cached_property_wrapper\n",
      "    value = obj.__dict__[self.func.__name__] = self.func(obj)\n",
      "  File \"c:\\Users\\lumin\\anaconda3\\envs\\py38\\lib\\site-packages\\stack_data\\core.py\", line 628, in executing_piece\n",
      "    return only(\n",
      "  File \"c:\\Users\\lumin\\anaconda3\\envs\\py38\\lib\\site-packages\\executing\\executing.py\", line 164, in only\n",
      "    raise NotOneValueFound('Expected one value, found 0')\n",
      "executing.executing.NotOneValueFound: Expected one value, found 0\n"
     ]
    }
   ],
   "source": [
    "data_folder = \"C:/Users/lumin/Desktop/Work/20212/Data/physionet.org/files/circor-heart-sound/1.0.3/training_data\"\n",
    "\n",
    "# Find the patient data files.\n",
    "patient_files = find_patient_files(data_folder)\n",
    "num_patient_files = len(patient_files)\n",
    "\n",
    "# Create a executor with 4 workers\n",
    "executor = ProcessPoolExecutor(max_workers=4)\n",
    "inputs = []\n",
    "\n",
    "# max_dur = 0\n",
    "max_cycles_no = 0\n",
    "\n",
    "for i in tqdm(range(num_patient_files), desc=\"Patients\", position=0):\n",
    "    # Load the current patient data and recordings.\n",
    "    current_patient_data = load_patient_data(patient_files[i])\n",
    "    current_recordings_paths, current_recordings = load_recordings(data_folder, current_patient_data, preprocess=False)\n",
    "\n",
    "    for j in range(len(current_recordings)):\n",
    "        # if len(current_recordings[j]) > max_dur:\n",
    "        #     max_dur = len(current_recordings[j])\n",
    "        #     tqdm.write(f'Current max duration: {max_dur}')\n",
    "\n",
    "        segmentation_file_path = AudioUtil.get_segmentation_file(current_recordings_paths[j])\n",
    "        cardiac_states = AudioUtil.get_cardiac_states(segmentation_file_path)\n",
    "\n",
    "        if cardiac_states is None:\n",
    "            continue\n",
    "        \n",
    "        cardiac_cycles = AudioUtil.split_cardiac_cycles(current_recordings_paths[j], cardiac_states)\n",
    "\n",
    "\n",
    "        if len(cardiac_cycles) > max_cycles_no:\n",
    "            max_cycles_no = len(cardiac_cycles)\n",
    "            tqdm.write(f'Current max cycle no: {max_cycles_no}')\n",
    "\n",
    "\n",
    "\n",
    "# total_max_duration = -1\n",
    "# futures = [executor.submit(get_cardiac_states, input) for input in inputs]\n",
    "# for future in as_completed(futures):\n",
    "#     cardiac_states = future.result()\n",
    "#     if cardiac_states is None:\n",
    "#         continue\n",
    "#     cur_max_duration = find_max_duration(cardiac_states)\n",
    "#     if cur_max_duration > total_max_duration:\n",
    "#         total_max_duration = cur_max_duration\n",
    "#         tqdm.write(f'Current maximum duration is: {total_max_duration}')\n",
    "\n",
    "tqdm.write(f'max cycle duration is {max_cycles_no}')"
   ]
  },
  {
   "cell_type": "markdown",
   "metadata": {},
   "source": [
    "Set 2.5sec as max_duration"
   ]
  },
  {
   "cell_type": "markdown",
   "metadata": {},
   "source": [
    "Set 60s as max_recording_duration"
   ]
  },
  {
   "cell_type": "markdown",
   "metadata": {},
   "source": []
  }
 ],
 "metadata": {
  "kernelspec": {
   "display_name": "Python 3.8.13 ('py38')",
   "language": "python",
   "name": "python3"
  },
  "language_info": {
   "codemirror_mode": {
    "name": "ipython",
    "version": 3
   },
   "file_extension": ".py",
   "mimetype": "text/x-python",
   "name": "python",
   "nbconvert_exporter": "python",
   "pygments_lexer": "ipython3",
   "version": "3.8.13"
  },
  "orig_nbformat": 4,
  "vscode": {
   "interpreter": {
    "hash": "68e8aaa6874bd48bb187e47dd02de5530f22ef2f500911b0a3c153188765e172"
   }
  }
 },
 "nbformat": 4,
 "nbformat_minor": 2
}
