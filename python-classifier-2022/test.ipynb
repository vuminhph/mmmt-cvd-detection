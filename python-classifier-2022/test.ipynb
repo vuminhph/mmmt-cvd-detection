{
 "cells": [
  {
   "cell_type": "code",
   "execution_count": 1,
   "metadata": {},
   "outputs": [],
   "source": [
    "%load_ext autoreload\n",
    "%autoreload 2"
   ]
  },
  {
   "cell_type": "code",
   "execution_count": 4,
   "metadata": {},
   "outputs": [],
   "source": [
    "import os, numpy as np, scipy as sp, scipy.io, scipy.io.wavfile\n",
    "import torchaudio\n",
    "import torch\n",
    "import librosa\n",
    "\n",
    "from Const import *\n",
    "from helper_code import *\n",
    "from audio_util import AudioUtil\n",
    "from extract_features import *"
   ]
  },
  {
   "cell_type": "code",
   "execution_count": 4,
   "metadata": {},
   "outputs": [],
   "source": [
    "import matplotlib.pyplot as plt\n",
    "from pylab import rcParams\n",
    "\n",
    "rcParams['figure.figsize'] = 25, 15"
   ]
  },
  {
   "cell_type": "code",
   "execution_count": 3,
   "metadata": {},
   "outputs": [],
   "source": [
    "data_folder = \"C:/Users/lumin/Desktop/Work/20212/Data/circor-heart-sound/final/test\"\n",
    "example_file = '50149_MV.wav'\n",
    "\n",
    "found_file = False\n",
    "patient_files = find_patient_files(data_folder)\n",
    "\n",
    "for patient in patient_files:\n",
    "    current_patient_data = load_patient_data(patient)\n",
    "    current_recordings_paths, current_recordings = load_recordings(data_folder, current_patient_data, get_paths=True, preprocess=True)\n",
    "    \n",
    "    break\n"
   ]
  },
  {
   "cell_type": "code",
   "execution_count": 6,
   "metadata": {},
   "outputs": [],
   "source": [
    "cur_recording_path = current_recordings_paths[0]\n",
    "cur_recording = current_recordings[0]"
   ]
  },
  {
   "cell_type": "code",
   "execution_count": 7,
   "metadata": {},
   "outputs": [],
   "source": [
    "dem_features = get_clinical_features(current_patient_data)"
   ]
  },
  {
   "cell_type": "code",
   "execution_count": 8,
   "metadata": {},
   "outputs": [
    {
     "name": "stdout",
     "output_type": "stream",
     "text": [
      "[72.   0.   1.  98.  15.9  0. ]\n"
     ]
    }
   ],
   "source": [
    "print(dem_features)"
   ]
  },
  {
   "cell_type": "code",
   "execution_count": 10,
   "metadata": {},
   "outputs": [],
   "source": [
    "T = round(len(cur_recording) / NEW_SAMPLING_RATE)\n",
    "t = np.linspace(0, T, len(cur_recording), endpoint=False)"
   ]
  },
  {
   "cell_type": "code",
   "execution_count": 62,
   "metadata": {},
   "outputs": [],
   "source": [
    "from torch.nn import ZeroPad2d"
   ]
  },
  {
   "cell_type": "code",
   "execution_count": 58,
   "metadata": {},
   "outputs": [],
   "source": [
    "from tqdm.notebook import tqdm"
   ]
  },
  {
   "cell_type": "code",
   "execution_count": 77,
   "metadata": {},
   "outputs": [
    {
     "ename": "KeyboardInterrupt",
     "evalue": "",
     "output_type": "error",
     "traceback": [
      "\u001b[1;31m---------------------------------------------------------------------------\u001b[0m",
      "\u001b[1;31mKeyboardInterrupt\u001b[0m                         Traceback (most recent call last)",
      "\u001b[1;32mc:\\Users\\lumin\\Desktop\\Work\\20212\\source-code\\python-classifier-2022\\test.ipynb Cell 8\u001b[0m in \u001b[0;36m<cell line: 5>\u001b[1;34m()\u001b[0m\n\u001b[0;32m      <a href='vscode-notebook-cell:/c%3A/Users/lumin/Desktop/Work/20212/source-code/python-classifier-2022/test.ipynb#ch0000020?line=4'>5</a>\u001b[0m \u001b[39mfor\u001b[39;00m patient \u001b[39min\u001b[39;00m patient_files:\n\u001b[0;32m      <a href='vscode-notebook-cell:/c%3A/Users/lumin/Desktop/Work/20212/source-code/python-classifier-2022/test.ipynb#ch0000020?line=5'>6</a>\u001b[0m     current_patient_data \u001b[39m=\u001b[39m load_patient_data(patient)\n\u001b[1;32m----> <a href='vscode-notebook-cell:/c%3A/Users/lumin/Desktop/Work/20212/source-code/python-classifier-2022/test.ipynb#ch0000020?line=6'>7</a>\u001b[0m     current_recordings_paths, current_recordings \u001b[39m=\u001b[39m load_recordings(data_folder, current_patient_data, get_paths\u001b[39m=\u001b[39;49m\u001b[39mTrue\u001b[39;49;00m, preprocess\u001b[39m=\u001b[39;49m\u001b[39mTrue\u001b[39;49;00m)\n\u001b[0;32m      <a href='vscode-notebook-cell:/c%3A/Users/lumin/Desktop/Work/20212/source-code/python-classifier-2022/test.ipynb#ch0000020?line=8'>9</a>\u001b[0m     cur_recording_cycles_embeddings \u001b[39m=\u001b[39m torch\u001b[39m.\u001b[39mzeros((\u001b[39mlen\u001b[39m(recording_locations), \u001b[39m128\u001b[39m \u001b[39m*\u001b[39m EMBEDDING_ROWS))\n\u001b[0;32m     <a href='vscode-notebook-cell:/c%3A/Users/lumin/Desktop/Work/20212/source-code/python-classifier-2022/test.ipynb#ch0000020?line=10'>11</a>\u001b[0m     \u001b[39mfor\u001b[39;00m i \u001b[39min\u001b[39;00m \u001b[39mrange\u001b[39m(\u001b[39mlen\u001b[39m(current_recordings_paths)):\n",
      "File \u001b[1;32mc:\\Users\\lumin\\Desktop\\Work\\20212\\source-code\\python-classifier-2022\\helper_code.py:76\u001b[0m, in \u001b[0;36mload_recordings\u001b[1;34m(data_folder, data, get_frequencies, get_paths, preprocess)\u001b[0m\n\u001b[0;32m     74\u001b[0m file_path \u001b[39m=\u001b[39m os\u001b[39m.\u001b[39mpath\u001b[39m.\u001b[39mjoin(data_folder, recording_file)\n\u001b[0;32m     75\u001b[0m \u001b[39mif\u001b[39;00m preprocess:\n\u001b[1;32m---> 76\u001b[0m     recording, frequency \u001b[39m=\u001b[39m AudioUtil\u001b[39m.\u001b[39;49mload_wav_file(file_path)\n\u001b[0;32m     77\u001b[0m \u001b[39melse\u001b[39;00m:\n\u001b[0;32m     78\u001b[0m     recording, frequency \u001b[39m=\u001b[39m AudioUtil\u001b[39m.\u001b[39mload_wav_file_no_preprocessing(file_path)\n",
      "File \u001b[1;32mc:\\Users\\lumin\\Desktop\\Work\\20212\\source-code\\python-classifier-2022\\audio_util.py:130\u001b[0m, in \u001b[0;36mAudioUtil.load_wav_file\u001b[1;34m(filename)\u001b[0m\n\u001b[0;32m    128\u001b[0m signal \u001b[39m=\u001b[39m AudioUtil\u001b[39m.\u001b[39mbutter_bandpass_filter(signal, LOW_CUT_FREQ, HIGH_CUT_FREQ, NEW_SAMPLING_RATE)\n\u001b[0;32m    129\u001b[0m \u001b[39m# Remove spikes in the recording\u001b[39;00m\n\u001b[1;32m--> 130\u001b[0m signal \u001b[39m=\u001b[39m AudioUtil\u001b[39m.\u001b[39;49mschmidt_spike_removal(signal, NEW_SAMPLING_RATE)\n\u001b[0;32m    132\u001b[0m \u001b[39mreturn\u001b[39;00m signal, NEW_SAMPLING_RATE\n",
      "File \u001b[1;32mc:\\Users\\lumin\\Desktop\\Work\\20212\\source-code\\python-classifier-2022\\audio_util.py:75\u001b[0m, in \u001b[0;36mAudioUtil.schmidt_spike_removal\u001b[1;34m(original_signal, fs)\u001b[0m\n\u001b[0;32m     72\u001b[0m MAAs \u001b[39m=\u001b[39m np\u001b[39m.\u001b[39mamax(\u001b[39mabs\u001b[39m(sample_frames), axis\u001b[39m=\u001b[39m\u001b[39m1\u001b[39m)\n\u001b[0;32m     74\u001b[0m \u001b[39m# While there are still samples greater than 3 * the median value of MAAs, remove those spikes\u001b[39;00m\n\u001b[1;32m---> 75\u001b[0m \u001b[39mwhile\u001b[39;00m \u001b[39many\u001b[39;49m(maa \u001b[39m>\u001b[39;49m \u001b[39m3\u001b[39;49m \u001b[39m*\u001b[39;49m np\u001b[39m.\u001b[39;49mmedian(MAAs) \u001b[39mfor\u001b[39;49;00m maa \u001b[39min\u001b[39;49;00m MAAs) \u001b[39mand\u001b[39;00m no_sweeps \u001b[39m<\u001b[39m\u001b[39m=\u001b[39m MAX_SWEEPS:\n\u001b[0;32m     76\u001b[0m     no_sweeps \u001b[39m+\u001b[39m\u001b[39m=\u001b[39m \u001b[39m1\u001b[39m\n\u001b[0;32m     77\u001b[0m     \u001b[39m# Find the window with the max MAA\u001b[39;00m\n",
      "File \u001b[1;32mc:\\Users\\lumin\\Desktop\\Work\\20212\\source-code\\python-classifier-2022\\audio_util.py:75\u001b[0m, in \u001b[0;36m<genexpr>\u001b[1;34m(.0)\u001b[0m\n\u001b[0;32m     72\u001b[0m MAAs \u001b[39m=\u001b[39m np\u001b[39m.\u001b[39mamax(\u001b[39mabs\u001b[39m(sample_frames), axis\u001b[39m=\u001b[39m\u001b[39m1\u001b[39m)\n\u001b[0;32m     74\u001b[0m \u001b[39m# While there are still samples greater than 3 * the median value of MAAs, remove those spikes\u001b[39;00m\n\u001b[1;32m---> 75\u001b[0m \u001b[39mwhile\u001b[39;00m \u001b[39many\u001b[39m(maa \u001b[39m>\u001b[39m \u001b[39m3\u001b[39m \u001b[39m*\u001b[39m np\u001b[39m.\u001b[39;49mmedian(MAAs) \u001b[39mfor\u001b[39;00m maa \u001b[39min\u001b[39;00m MAAs) \u001b[39mand\u001b[39;00m no_sweeps \u001b[39m<\u001b[39m\u001b[39m=\u001b[39m MAX_SWEEPS:\n\u001b[0;32m     76\u001b[0m     no_sweeps \u001b[39m+\u001b[39m\u001b[39m=\u001b[39m \u001b[39m1\u001b[39m\n\u001b[0;32m     77\u001b[0m     \u001b[39m# Find the window with the max MAA\u001b[39;00m\n",
      "File \u001b[1;32m<__array_function__ internals>:180\u001b[0m, in \u001b[0;36mmedian\u001b[1;34m(*args, **kwargs)\u001b[0m\n",
      "File \u001b[1;32mc:\\Users\\lumin\\anaconda3\\envs\\py38\\lib\\site-packages\\numpy\\lib\\function_base.py:3793\u001b[0m, in \u001b[0;36mmedian\u001b[1;34m(a, axis, out, overwrite_input, keepdims)\u001b[0m\n\u001b[0;32m   3711\u001b[0m \u001b[39m@array_function_dispatch\u001b[39m(_median_dispatcher)\n\u001b[0;32m   3712\u001b[0m \u001b[39mdef\u001b[39;00m \u001b[39mmedian\u001b[39m(a, axis\u001b[39m=\u001b[39m\u001b[39mNone\u001b[39;00m, out\u001b[39m=\u001b[39m\u001b[39mNone\u001b[39;00m, overwrite_input\u001b[39m=\u001b[39m\u001b[39mFalse\u001b[39;00m, keepdims\u001b[39m=\u001b[39m\u001b[39mFalse\u001b[39;00m):\n\u001b[0;32m   3713\u001b[0m     \u001b[39m\"\"\"\u001b[39;00m\n\u001b[0;32m   3714\u001b[0m \u001b[39m    Compute the median along the specified axis.\u001b[39;00m\n\u001b[0;32m   3715\u001b[0m \n\u001b[1;32m   (...)\u001b[0m\n\u001b[0;32m   3791\u001b[0m \n\u001b[0;32m   3792\u001b[0m \u001b[39m    \"\"\"\u001b[39;00m\n\u001b[1;32m-> 3793\u001b[0m     r, k \u001b[39m=\u001b[39m _ureduce(a, func\u001b[39m=\u001b[39;49m_median, axis\u001b[39m=\u001b[39;49maxis, out\u001b[39m=\u001b[39;49mout,\n\u001b[0;32m   3794\u001b[0m                     overwrite_input\u001b[39m=\u001b[39;49moverwrite_input)\n\u001b[0;32m   3795\u001b[0m     \u001b[39mif\u001b[39;00m keepdims:\n\u001b[0;32m   3796\u001b[0m         \u001b[39mreturn\u001b[39;00m r\u001b[39m.\u001b[39mreshape(k)\n",
      "File \u001b[1;32mc:\\Users\\lumin\\anaconda3\\envs\\py38\\lib\\site-packages\\numpy\\lib\\function_base.py:3702\u001b[0m, in \u001b[0;36m_ureduce\u001b[1;34m(a, func, **kwargs)\u001b[0m\n\u001b[0;32m   3699\u001b[0m \u001b[39melse\u001b[39;00m:\n\u001b[0;32m   3700\u001b[0m     keepdim \u001b[39m=\u001b[39m (\u001b[39m1\u001b[39m,) \u001b[39m*\u001b[39m a\u001b[39m.\u001b[39mndim\n\u001b[1;32m-> 3702\u001b[0m r \u001b[39m=\u001b[39m func(a, \u001b[39m*\u001b[39;49m\u001b[39m*\u001b[39;49mkwargs)\n\u001b[0;32m   3703\u001b[0m \u001b[39mreturn\u001b[39;00m r, keepdim\n",
      "File \u001b[1;32mc:\\Users\\lumin\\anaconda3\\envs\\py38\\lib\\site-packages\\numpy\\lib\\function_base.py:3828\u001b[0m, in \u001b[0;36m_median\u001b[1;34m(a, axis, out, overwrite_input)\u001b[0m\n\u001b[0;32m   3826\u001b[0m         part \u001b[39m=\u001b[39m a\n\u001b[0;32m   3827\u001b[0m \u001b[39melse\u001b[39;00m:\n\u001b[1;32m-> 3828\u001b[0m     part \u001b[39m=\u001b[39m partition(a, kth, axis\u001b[39m=\u001b[39;49maxis)\n\u001b[0;32m   3830\u001b[0m \u001b[39mif\u001b[39;00m part\u001b[39m.\u001b[39mshape \u001b[39m==\u001b[39m ():\n\u001b[0;32m   3831\u001b[0m     \u001b[39m# make 0-D arrays work\u001b[39;00m\n\u001b[0;32m   3832\u001b[0m     \u001b[39mreturn\u001b[39;00m part\u001b[39m.\u001b[39mitem()\n",
      "File \u001b[1;32m<__array_function__ internals>:180\u001b[0m, in \u001b[0;36mpartition\u001b[1;34m(*args, **kwargs)\u001b[0m\n",
      "File \u001b[1;32mc:\\Users\\lumin\\anaconda3\\envs\\py38\\lib\\site-packages\\numpy\\core\\fromnumeric.py:758\u001b[0m, in \u001b[0;36mpartition\u001b[1;34m(a, kth, axis, kind, order)\u001b[0m\n\u001b[0;32m    756\u001b[0m \u001b[39melse\u001b[39;00m:\n\u001b[0;32m    757\u001b[0m     a \u001b[39m=\u001b[39m asanyarray(a)\u001b[39m.\u001b[39mcopy(order\u001b[39m=\u001b[39m\u001b[39m\"\u001b[39m\u001b[39mK\u001b[39m\u001b[39m\"\u001b[39m)\n\u001b[1;32m--> 758\u001b[0m a\u001b[39m.\u001b[39;49mpartition(kth, axis\u001b[39m=\u001b[39;49maxis, kind\u001b[39m=\u001b[39;49mkind, order\u001b[39m=\u001b[39;49morder)\n\u001b[0;32m    759\u001b[0m \u001b[39mreturn\u001b[39;00m a\n",
      "\u001b[1;31mKeyboardInterrupt\u001b[0m: "
     ]
    }
   ],
   "source": [
    "recording_locations = ['AV', 'MV', 'PV', 'TV', 'PhC']\n",
    "\n",
    "recording_cycles_embeddings = None\n",
    "\n",
    "for patient in tqdm.range(patient_files):\n",
    "    current_patient_data = load_patient_data(patient)\n",
    "    current_recordings_paths, current_recordings = load_recordings(data_folder, current_patient_data, get_paths=True, preprocess=True)\n",
    "\n",
    "    cur_recording_cycles_embeddings = torch.zeros((len(recording_locations), 128 * EMBEDDING_ROWS))\n",
    "\n",
    "    for i in range(len(current_recordings_paths)):\n",
    "        segmentation_file_path = AudioUtil.get_segmentation_file(current_recordings_paths[i])\n",
    "        cardiac_states = AudioUtil.get_cardiac_states(segmentation_file_path)\n",
    "\n",
    "        if cardiac_states is None:\n",
    "            continue\n",
    "\n",
    "        cardiac_cycles = AudioUtil.split_cardiac_cycles(current_recordings[i], cardiac_states)\n",
    "        \n",
    "        loc_embeddings = None\n",
    "\n",
    "        for cycle in tqdm(cardiac_cycles):\n",
    "            cur_cycle = AudioUtil.audio_norm(cycle)\n",
    "            cur_cycle = AudioUtil.pad_signal(cur_cycle, MAX_DURATION)\n",
    "\n",
    "            example = vggish_input.waveform_to_examples(data=cur_cycle, sample_rate=NEW_SAMPLING_RATE)\n",
    "            embeddings = embedding_model.forward(example)\n",
    "            \n",
    "            if loc_embeddings is None:\n",
    "                loc_embeddings = embeddings\n",
    "            else:\n",
    "                loc_embeddings = torch.vstack((loc_embeddings, embeddings))\n",
    "\n",
    "        # Pad embeddings to reach size of (EMBEDDING_ROWS, 128)\n",
    "        cur_no_rows = loc_embeddings.size()[0]\n",
    "        pad = ZeroPad2d((0, 0, 0, EMBEDDING_ROWS - cur_no_rows))\n",
    "        loc_embeddings = pad(loc_embeddings)\n",
    "\n",
    "        cur_recording_cycles_embeddings[i] = torch.flatten(loc_embeddings)\n",
    "\n",
    "    cur_recording_cycles_embeddings = torch.flatten(cur_recording_cycles_embeddings)\n",
    "    recording_cycles_embeddings = cur_recording_cycles_embeddings if recording_cycles_embeddings is None else torch.vstack((recording_cycles_embeddings, cur_recording_cycles_embeddings))"
   ]
  },
  {
   "cell_type": "code",
   "execution_count": 76,
   "metadata": {},
   "outputs": [
    {
     "data": {
      "text/plain": [
       "torch.Size([178560])"
      ]
     },
     "execution_count": 76,
     "metadata": {},
     "output_type": "execute_result"
    }
   ],
   "source": [
    "cur_recording_cycles_embeddings.size()"
   ]
  },
  {
   "cell_type": "code",
   "execution_count": 55,
   "metadata": {},
   "outputs": [
    {
     "data": {
      "text/plain": [
       "torch.Size([42, 128])"
      ]
     },
     "execution_count": 55,
     "metadata": {},
     "output_type": "execute_result"
    }
   ],
   "source": [
    "recording_embeddings.size()"
   ]
  },
  {
   "cell_type": "code",
   "execution_count": 43,
   "metadata": {},
   "outputs": [],
   "source": [
    "cycle = AudioUtil.audio_norm(cardiac_cycles[0])\n",
    "cycle = AudioUtil.pad_signal(cycle, MAX_DURATION)"
   ]
  },
  {
   "cell_type": "code",
   "execution_count": 44,
   "metadata": {},
   "outputs": [
    {
     "name": "stdout",
     "output_type": "stream",
     "text": [
      "(3000,)\n"
     ]
    }
   ],
   "source": [
    "print(cycle.shape)"
   ]
  },
  {
   "cell_type": "code",
   "execution_count": 14,
   "metadata": {},
   "outputs": [
    {
     "data": {
      "text/plain": [
       "[<matplotlib.lines.Line2D at 0x24e17c8eac0>]"
      ]
     },
     "execution_count": 14,
     "metadata": {},
     "output_type": "execute_result"
    },
    {
     "data": {
      "image/png": "[encoded data removed]",
      "text/plain": [
       "<Figure size 432x288 with 1 Axes>"
      ]
     },
     "metadata": {
      "needs_background": "light"
     },
     "output_type": "display_data"
    }
   ],
   "source": [
    "fig, ax = plt.subplots()\n",
    "ax.plot(t, cur_recording)"
   ]
  },
  {
   "cell_type": "code",
   "execution_count": 8,
   "metadata": {},
   "outputs": [],
   "source": [
    "from torchvggish import vggish, vggish_input\n",
    "\n",
    "# Initialise model and download weights\n",
    "embedding_model = vggish()\n",
    "# embedding_model.eval()"
   ]
  },
  {
   "cell_type": "code",
   "execution_count": 47,
   "metadata": {},
   "outputs": [],
   "source": [
    "example = vggish_input.waveform_to_examples(data=cycle, sample_rate=NEW_SAMPLING_RATE)\n",
    "embeddings = embedding_model.forward(example)"
   ]
  },
  {
   "cell_type": "code",
   "execution_count": 46,
   "metadata": {},
   "outputs": [
    {
     "name": "stdout",
     "output_type": "stream",
     "text": [
      "torch.Size([3, 128])\n"
     ]
    }
   ],
   "source": [
    "print(embeddings.size())"
   ]
  },
  {
   "cell_type": "code",
   "execution_count": 15,
   "metadata": {},
   "outputs": [
    {
     "data": {
      "text/plain": [
       "<matplotlib.image.AxesImage at 0x24e19d6ec70>"
      ]
     },
     "execution_count": 15,
     "metadata": {},
     "output_type": "execute_result"
    },
    {
     "data": {
      "image/png": "[encoded data removed]",
      "text/plain": [
       "<Figure size 432x288 with 1 Axes>"
      ]
     },
     "metadata": {
      "needs_background": "light"
     },
     "output_type": "display_data"
    }
   ],
   "source": [
    "dur_aud = AudioUtil.pad_signal(cardiac_cycles[1], MAX_DURATION)\n",
    "\n",
    "spec = AudioUtil.spectro_gram(dur_aud)\n",
    "plt.xlabel('Time')\n",
    "plt.ylabel('Frequency')\n",
    "plt.imshow(spec)"
   ]
  },
  {
   "cell_type": "code",
   "execution_count": 1,
   "metadata": {},
   "outputs": [],
   "source": [
    "from torchvggish import vggish, vggish_input\n",
    "\n",
    "# Initialise model and download weights\n",
    "embedding_model = vggish()"
   ]
  },
  {
   "cell_type": "code",
   "execution_count": 16,
   "metadata": {},
   "outputs": [
    {
     "data": {
      "text/plain": [
       "tensor([[13.9405, 13.9405, 13.9405,  ..., 13.9405, 13.9405, 13.9405],\n",
       "        [13.9405, 13.9405, 13.9405,  ..., 13.9405, 13.9405, 13.9405],\n",
       "        [13.9405, 13.9405, 13.9405,  ..., 13.9405, 13.9405, 13.9405],\n",
       "        ...,\n",
       "        [13.9405, 13.9405, 13.9405,  ..., 13.9405, 13.9405, 13.9405],\n",
       "        [13.9405, 13.9405, 13.9405,  ..., 13.9405, 13.9405, 13.9405],\n",
       "        [13.9405, 13.9405, 13.9405,  ..., 13.9405, 13.9405, 13.9405]])"
      ]
     },
     "execution_count": 16,
     "metadata": {},
     "output_type": "execute_result"
    }
   ],
   "source": [
    "spec"
   ]
  },
  {
   "cell_type": "code",
   "execution_count": 19,
   "metadata": {},
   "outputs": [
    {
     "ename": "TypeError",
     "evalue": "mean() received an invalid combination of arguments - got (axis=int, dtype=NoneType, out=NoneType, ), but expected one of:\n * (*, torch.dtype dtype)\n * (tuple of ints dim, bool keepdim, *, torch.dtype dtype)\n * (tuple of names dim, bool keepdim, *, torch.dtype dtype)\n",
     "output_type": "error",
     "traceback": [
      "\u001b[1;31m---------------------------------------------------------------------------\u001b[0m",
      "\u001b[1;31mTypeError\u001b[0m                                 Traceback (most recent call last)",
      "\u001b[1;32mc:\\Users\\lumin\\Desktop\\Work\\20212\\source-code\\python-classifier-2022\\test.ipynb Cell 12\u001b[0m in \u001b[0;36m<cell line: 1>\u001b[1;34m()\u001b[0m\n\u001b[1;32m----> <a href='vscode-notebook-cell:/c%3A/Users/lumin/Desktop/Work/20212/source-code/python-classifier-2022/test.ipynb#ch0000020?line=0'>1</a>\u001b[0m example \u001b[39m=\u001b[39m vggish_input\u001b[39m.\u001b[39;49mwaveform_to_examples(data\u001b[39m=\u001b[39;49mspec, sample_rate\u001b[39m=\u001b[39;49mNEW_SAMPLING_RATE)\n\u001b[0;32m      <a href='vscode-notebook-cell:/c%3A/Users/lumin/Desktop/Work/20212/source-code/python-classifier-2022/test.ipynb#ch0000020?line=1'>2</a>\u001b[0m embeddings \u001b[39m=\u001b[39m embedding_model\u001b[39m.\u001b[39mforward(example)\n",
      "File \u001b[1;32mc:\\Users\\lumin\\anaconda3\\envs\\py38\\lib\\site-packages\\torchvggish\\vggish_input.py:50\u001b[0m, in \u001b[0;36mwaveform_to_examples\u001b[1;34m(data, sample_rate, return_tensor)\u001b[0m\n\u001b[0;32m     48\u001b[0m \u001b[39m# Convert to mono.\u001b[39;00m\n\u001b[0;32m     49\u001b[0m \u001b[39mif\u001b[39;00m \u001b[39mlen\u001b[39m(data\u001b[39m.\u001b[39mshape) \u001b[39m>\u001b[39m \u001b[39m1\u001b[39m:\n\u001b[1;32m---> 50\u001b[0m     data \u001b[39m=\u001b[39m np\u001b[39m.\u001b[39;49mmean(data, axis\u001b[39m=\u001b[39;49m\u001b[39m1\u001b[39;49m)\n\u001b[0;32m     51\u001b[0m \u001b[39m# Resample to the rate assumed by VGGish.\u001b[39;00m\n\u001b[0;32m     52\u001b[0m \u001b[39mif\u001b[39;00m sample_rate \u001b[39m!=\u001b[39m vggish_params\u001b[39m.\u001b[39mSAMPLE_RATE:\n",
      "File \u001b[1;32m<__array_function__ internals>:180\u001b[0m, in \u001b[0;36mmean\u001b[1;34m(*args, **kwargs)\u001b[0m\n",
      "File \u001b[1;32mc:\\Users\\lumin\\anaconda3\\envs\\py38\\lib\\site-packages\\numpy\\core\\fromnumeric.py:3472\u001b[0m, in \u001b[0;36mmean\u001b[1;34m(a, axis, dtype, out, keepdims, where)\u001b[0m\n\u001b[0;32m   3470\u001b[0m         \u001b[39mpass\u001b[39;00m\n\u001b[0;32m   3471\u001b[0m     \u001b[39melse\u001b[39;00m:\n\u001b[1;32m-> 3472\u001b[0m         \u001b[39mreturn\u001b[39;00m mean(axis\u001b[39m=\u001b[39;49maxis, dtype\u001b[39m=\u001b[39;49mdtype, out\u001b[39m=\u001b[39;49mout, \u001b[39m*\u001b[39;49m\u001b[39m*\u001b[39;49mkwargs)\n\u001b[0;32m   3474\u001b[0m \u001b[39mreturn\u001b[39;00m _methods\u001b[39m.\u001b[39m_mean(a, axis\u001b[39m=\u001b[39maxis, dtype\u001b[39m=\u001b[39mdtype,\n\u001b[0;32m   3475\u001b[0m                       out\u001b[39m=\u001b[39mout, \u001b[39m*\u001b[39m\u001b[39m*\u001b[39mkwargs)\n",
      "\u001b[1;31mTypeError\u001b[0m: mean() received an invalid combination of arguments - got (axis=int, dtype=NoneType, out=NoneType, ), but expected one of:\n * (*, torch.dtype dtype)\n * (tuple of ints dim, bool keepdim, *, torch.dtype dtype)\n * (tuple of names dim, bool keepdim, *, torch.dtype dtype)\n"
     ]
    }
   ],
   "source": [
    "example = vggish_input.waveform_to_examples(data=spec, sample_rate=NEW_SAMPLING_RATE)\n",
    "embeddings = embedding_model.forward(example)"
   ]
  },
  {
   "cell_type": "code",
   "execution_count": 1,
   "metadata": {},
   "outputs": [],
   "source": [
    "import pickle"
   ]
  },
  {
   "cell_type": "code",
   "execution_count": 3,
   "metadata": {},
   "outputs": [
    {
     "name": "stdout",
     "output_type": "stream",
     "text": [
      "{'cycles_embeddings': tensor([175.,   8., 147.,  ...,   0.,   0.,   0.], requires_grad=True)}\n"
     ]
    }
   ],
   "source": [
    "with open(\"./models/embeddings_178k.pickle\", \"rb\") as fp:\n",
    "    data = pickle.load(fp)\n",
    "    print(data['cycles_embeddings'].size())"
   ]
  },
  {
   "cell_type": "code",
   "execution_count": null,
   "metadata": {},
   "outputs": [],
   "source": []
  }
 ],
 "metadata": {
  "kernelspec": {
   "display_name": "Python 3.8.13 ('py38')",
   "language": "python",
   "name": "python3"
  },
  "language_info": {
   "codemirror_mode": {
    "name": "ipython",
    "version": 3
   },
   "file_extension": ".py",
   "mimetype": "text/x-python",
   "name": "python",
   "nbconvert_exporter": "python",
   "pygments_lexer": "ipython3",
   "version": "3.8.13"
  },
  "orig_nbformat": 4,
  "vscode": {
   "interpreter": {
    "hash": "68e8aaa6874bd48bb187e47dd02de5530f22ef2f500911b0a3c153188765e172"
   }
  }
 },
 "nbformat": 4,
 "nbformat_minor": 2
}
