{
 "cells": [
  {
   "cell_type": "code",
   "execution_count": 7,
   "metadata": {},
   "outputs": [
    {
     "name": "stdout",
     "output_type": "stream",
     "text": [
      "The autoreload extension is already loaded. To reload it, use:\n",
      "  %reload_ext autoreload\n"
     ]
    }
   ],
   "source": [
    "%load_ext autoreload\n",
    "%autoreload 2"
   ]
  },
  {
   "cell_type": "markdown",
   "metadata": {},
   "source": [
    "### Train model"
   ]
  },
  {
   "cell_type": "code",
   "execution_count": 9,
   "metadata": {},
   "outputs": [
    {
     "name": "stdout",
     "output_type": "stream",
     "text": [
      "Finding data files...\n",
      "Extracting features and labels from the Challenge data...\n"
     ]
    },
    {
     "data": {
      "application/vnd.jupyter.widget-view+json": {
       "model_id": "58692404fa494df8ad271d41b62eb2b6",
       "version_major": 2,
       "version_minor": 0
      },
      "text/plain": [
       "Patients:   0%|          | 0/743 [00:00<?, ?it/s]"
      ]
     },
     "metadata": {},
     "output_type": "display_data"
    },
    {
     "ename": "TypeError",
     "evalue": "'NoneType' object is not subscriptable",
     "output_type": "error",
     "traceback": [
      "\u001b[1;31m---------------------------------------------------------------------------\u001b[0m",
      "\u001b[1;31mTypeError\u001b[0m                                 Traceback (most recent call last)",
      "File \u001b[1;32m~\\Desktop\\Work\\20212\\source-code\\python-classifier-2022\\train_model.py:32\u001b[0m, in \u001b[0;36m<module>\u001b[1;34m\u001b[0m\n\u001b[0;32m     29\u001b[0m \u001b[39melse\u001b[39;00m:\n\u001b[0;32m     30\u001b[0m     verbose \u001b[39m=\u001b[39m \u001b[39m1\u001b[39m\n\u001b[1;32m---> 32\u001b[0m train_challenge_model(data_folder, model_folder, verbose)\n",
      "File \u001b[1;32m~\\Desktop\\Work\\20212\\source-code\\python-classifier-2022\\team_code_v3.py:58\u001b[0m, in \u001b[0;36mtrain_challenge_model\u001b[1;34m(data_folder, model_folder, verbose)\u001b[0m\n\u001b[0;32m     55\u001b[0m current_recordings_paths, current_recordings \u001b[39m=\u001b[39m load_recordings(data_folder, current_patient_data, get_paths\u001b[39m=\u001b[39m\u001b[39mTrue\u001b[39;00m)\n\u001b[0;32m     57\u001b[0m \u001b[39m# Extract features.\u001b[39;00m\n\u001b[1;32m---> 58\u001b[0m current_features \u001b[39m=\u001b[39m get_full_features(current_patient_data, current_recordings, current_recordings_paths)\n\u001b[0;32m     59\u001b[0m features\u001b[39m.\u001b[39mappend(current_features)\n\u001b[0;32m     61\u001b[0m inputs\u001b[39m.\u001b[39mappend((current_patient_data, current_recordings, current_recordings_paths))\n",
      "File \u001b[1;32mc:\\Users\\lumin\\Desktop\\Work\\20212\\source-code\\python-classifier-2022\\extract_features_utils.py:158\u001b[0m, in \u001b[0;36mget_full_features\u001b[1;34m(data, recordings, recording_file_paths)\u001b[0m\n\u001b[0;32m    156\u001b[0m \u001b[39mfor\u001b[39;00m j \u001b[39min\u001b[39;00m \u001b[39mrange\u001b[39m(num_recording_locations):\n\u001b[0;32m    157\u001b[0m     \u001b[39mif\u001b[39;00m compare_strings(locations[i], recording_locations[j]) \u001b[39mand\u001b[39;00m np\u001b[39m.\u001b[39msize(recordings[i])\u001b[39m>\u001b[39m\u001b[39m0\u001b[39m:\n\u001b[1;32m--> 158\u001b[0m         pcg_features \u001b[39m=\u001b[39m get_PCG_features(recordings[i], recording_file_paths[i])\n\u001b[0;32m    159\u001b[0m         \u001b[39mif\u001b[39;00m pcg_features \u001b[39mis\u001b[39;00m \u001b[39mnot\u001b[39;00m \u001b[39mNone\u001b[39;00m:\n\u001b[0;32m    160\u001b[0m             recording_features[j, \u001b[39m0\u001b[39m] \u001b[39m=\u001b[39m \u001b[39m1\u001b[39m\n",
      "File \u001b[1;32mc:\\Users\\lumin\\Desktop\\Work\\20212\\source-code\\python-classifier-2022\\extract_features_utils.py:196\u001b[0m, in \u001b[0;36mget_PCG_features\u001b[1;34m(recording, recording_file_path)\u001b[0m\n\u001b[0;32m    193\u001b[0m cardiac_states \u001b[39m=\u001b[39m AudioUtil\u001b[39m.\u001b[39mget_cardiac_states(segmentation_file_path)\n\u001b[0;32m    195\u001b[0m \u001b[39m# Extract time domain features\u001b[39;00m\n\u001b[1;32m--> 196\u001b[0m time_domain_features \u001b[39m=\u001b[39m extract_time_domain_features(cardiac_states, recording)\n\u001b[0;32m    197\u001b[0m \u001b[39m# Extract frequency domain features\u001b[39;00m\n\u001b[0;32m    198\u001b[0m frequency_domain_features \u001b[39m=\u001b[39m extract_frequency_domain_features(cardiac_states, recording)\n",
      "File \u001b[1;32mc:\\Users\\lumin\\Desktop\\Work\\20212\\source-code\\python-classifier-2022\\extract_features_utils.py:221\u001b[0m, in \u001b[0;36mextract_time_domain_features\u001b[1;34m(state_data, signal)\u001b[0m\n\u001b[0;32m    205\u001b[0m \u001b[39m\"\"\"\u001b[39;00m\n\u001b[0;32m    206\u001b[0m \u001b[39mExtract features related to recording's time domain\u001b[39;00m\n\u001b[0;32m    207\u001b[0m \u001b[39m\u001b[39;00m\n\u001b[1;32m   (...)\u001b[0m\n\u001b[0;32m    217\u001b[0m \u001b[39m - time_domain_features: An array containing the extracted features (16 + 20)\u001b[39;00m\n\u001b[0;32m    218\u001b[0m \u001b[39m\"\"\"\u001b[39;00m\n\u001b[0;32m    220\u001b[0m \u001b[39m# Interval features\u001b[39;00m\n\u001b[1;32m--> 221\u001b[0m state_starts \u001b[39m=\u001b[39m state_data[\u001b[39m0\u001b[39;49m]\n\u001b[0;32m    222\u001b[0m state_ends \u001b[39m=\u001b[39m state_data[\u001b[39m1\u001b[39m]\n\u001b[0;32m    223\u001b[0m no_cycles \u001b[39m=\u001b[39m state_starts\u001b[39m.\u001b[39mshape[\u001b[39m1\u001b[39m]\n",
      "\u001b[1;31mTypeError\u001b[0m: 'NoneType' object is not subscriptable"
     ]
    }
   ],
   "source": [
    "%run train_model.py \"C:\\Users\\lumin\\Desktop\\Work\\20212\\Data\\circor-heart-sound\\final\\train\" ./models"
   ]
  },
  {
   "cell_type": "markdown",
   "metadata": {},
   "source": [
    "### Run Model"
   ]
  },
  {
   "cell_type": "code",
   "execution_count": 5,
   "metadata": {},
   "outputs": [
    {
     "name": "stdout",
     "output_type": "stream",
     "text": [
      "Loading Challenge model...\n",
      "Running model on Challenge data...\n"
     ]
    },
    {
     "data": {
      "application/vnd.jupyter.widget-view+json": {
       "model_id": "10cbf09db6ca4863aa6034044caf4b73",
       "version_major": 2,
       "version_minor": 0
      },
      "text/plain": [
       "Patients:   0%|          | 0/199 [00:00<?, ?it/s]"
      ]
     },
     "metadata": {},
     "output_type": "display_data"
    },
    {
     "name": "stdout",
     "output_type": "stream",
     "text": [
      "Done.\n"
     ]
    }
   ],
   "source": [
    "%run run_model.py ./models \"C:\\Users\\lumin\\Desktop\\Work\\20212\\Data\\circor-heart-sound\\final\\test\" ./outputs"
   ]
  },
  {
   "cell_type": "markdown",
   "metadata": {},
   "source": [
    "### Evaluate Model"
   ]
  },
  {
   "cell_type": "code",
   "execution_count": 6,
   "metadata": {},
   "outputs": [
    {
     "name": "stdout",
     "output_type": "stream",
     "text": [
      "#Murmur scores\n",
      "AUROC,AUPRC,F-measure,Accuracy,Weighted Accuracy,Cost\n",
      "0.643,0.437,0.347,0.759,0.465,20553.196\n",
      "\n",
      "#Outcome scores\n",
      "AUROC,AUPRC,F-measure,Accuracy,Weighted Accuracy,Cost\n",
      "0.564,0.565,0.547,0.548,0.630,10791.537\n",
      "\n",
      "#Murmur scores (per class)\n",
      "Classes,Present,Unknown,Absent\n",
      "AUROC,0.656,0.621,0.653\n",
      "AUPRC,0.332,0.132,0.846\n",
      "F-measure,0.182,0.000,0.860\n",
      "Accuracy,0.118,0.000,0.961\n",
      "\n",
      "#Outcome scores (per class)\n",
      "Classes,Abnormal,Normal\n",
      "AUROC,0.564,0.564\n",
      "AUPRC,0.480,0.651\n",
      "F-measure,0.559,0.536\n",
      "Accuracy,0.679,0.452\n",
      "\n"
     ]
    }
   ],
   "source": [
    "%run evaluate_model.py \"C:\\Users\\lumin\\Desktop\\Work\\20212\\Data\\circor-heart-sound\\final\\test\" ./outputs"
   ]
  },
  {
   "cell_type": "code",
   "execution_count": null,
   "metadata": {},
   "outputs": [],
   "source": []
  }
 ],
 "metadata": {
  "kernelspec": {
   "display_name": "Python 3.8.13 ('py38')",
   "language": "python",
   "name": "python3"
  },
  "language_info": {
   "codemirror_mode": {
    "name": "ipython",
    "version": 3
   },
   "file_extension": ".py",
   "mimetype": "text/x-python",
   "name": "python",
   "nbconvert_exporter": "python",
   "pygments_lexer": "ipython3",
   "version": "3.8.13"
  },
  "orig_nbformat": 4,
  "vscode": {
   "interpreter": {
    "hash": "68e8aaa6874bd48bb187e47dd02de5530f22ef2f500911b0a3c153188765e172"
   }
  }
 },
 "nbformat": 4,
 "nbformat_minor": 2
}
