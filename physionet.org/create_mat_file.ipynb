{
 "cells": [
  {
   "cell_type": "code",
   "execution_count": 1,
   "metadata": {},
   "outputs": [],
   "source": [
    "import sys\n",
    "sys.path.append('C:/Users/lumin/Desktop/Work/20212/source-code/python-classifier-2022')\n",
    "\n",
    "from helper_code import *\n",
    "from os.path import dirname, basename, join\n",
    "\n",
    "%load_ext autoreload\n",
    "%autoreload 2"
   ]
  },
  {
   "cell_type": "code",
   "execution_count": 15,
   "metadata": {},
   "outputs": [],
   "source": [
    "\n",
    "from tqdm.notebook import tqdm\n",
    "from scipy.io import savemat\n",
    "\n",
    "def create_annotation_for_segmentation(rec_file_name):\n",
    "    \"\"\"\n",
    "    Generate annotation file to serve as input for logistic regression - HSMM segmentation\n",
    "    \n",
    "    Arguments:\n",
    "    - rec_file_name: the path to the wav file\n",
    "    Returns:\n",
    "    - A 2-D array: \n",
    "        + first column contains the indices of R peak (start of S1)\n",
    "        + second column contains the indices of the end of T wave (end of S2)\n",
    "    \"\"\"\n",
    "\n",
    "    data_folder = dirname(rec_file_name)\n",
    "    recording_name = basename(rec_file_name).replace('.wav', '')\n",
    "    seg_filename = join(data_folder, recording_name + '.tsv')\n",
    "\n",
    "    R_indices = []\n",
    "    T_indices = []\n",
    "\n",
    "    with open(seg_filename, 'r') as f:\n",
    "        data = f.read()\n",
    "        for l in data.split('\\n'):\n",
    "            sound_type = l.split('\\t')[-1]\n",
    "            if sound_type == '1':\n",
    "                R_indices.append(round(float(l.split('\\t')[0]) * NEW_SAMPLING_RATE, 0))\n",
    "            elif sound_type == '3':\n",
    "                T_indices.append(round(float(l.split('\\t')[0]) * NEW_SAMPLING_RATE, 0))\n",
    "\n",
    "    if len(R_indices) != 0:\n",
    "        R_indices = np.vstack(R_indices)\n",
    "    if len(T_indices) != 0:\n",
    "        T_indices = np.vstack(T_indices)\n",
    "        \n",
    "    # return np.ndarray([R_indices, T_indices], dtype='object')\n",
    "    return [R_indices, T_indices]\n",
    "\n",
    "\n",
    "# print(create_annotation_for_segmentation(\"C:/Users/lumin/Desktop/Work/20212/Data/circor-heart-sound/final/train/2530_AV.wav\"))\n",
    "\n",
    "def build_mat_data(folder_path):\n",
    "    patient_files = find_patient_files(folder_path)\n",
    "\n",
    "    # audio_recordings = np.ndarray([], dtype='object')\n",
    "    # annotations = np.ndarray([], dtype='object')\n",
    "    audio_recordings = list()\n",
    "    annotations = list()\n",
    "\n",
    "    for current_patient in tqdm(patient_files, desc='Patients', position=0):\n",
    "        current_patient_data = load_patient_data(current_patient)\n",
    "        rec_files, current_recordings = load_recordings(folder_path, current_patient_data, get_name=True)\n",
    "\n",
    "        for i in range(len(current_recordings)):\n",
    "            audio_recordings.append(np.vstack(current_recordings[i]))\n",
    "            # np.append(audio_recordings, np.vstack(current_recordings[j]))\n",
    "            \n",
    "            current_annotation = create_annotation_for_segmentation(rec_files[i])\n",
    "            annotations.append(current_annotation)\n",
    "            # np.append(annotations, current_annotation)\n",
    "            # annotations = np.vstack((annotations, current_annotation))\n",
    "\n",
    "    data_type = basename(folder_path)\n",
    "    output_mat_file = join(output_mat_folder, f'{data_type}.mat')\n",
    "\n",
    "    print(output_mat_file)\n",
    "\n",
    "    savemat(output_mat_file, {'PCGCellArray' : audio_recordings, \n",
    "                                'annotationsArray' : annotations,\n",
    "                                'Fs' : float(NEW_SAMPLING_RATE)})"
   ]
  },
  {
   "cell_type": "code",
   "execution_count": 16,
   "metadata": {},
   "outputs": [],
   "source": [
    "DATA_PATH = 'C:/Users/lumin/Desktop/Work/20212/Data/circor-heart-sound'\n",
    "output_mat_folder = \"C:/Users/lumin/Desktop/Work/20212/source-code/physionet.org/files/hss/1.0\"\n",
    "\n",
    "train_data_folder = join(DATA_PATH, 'final', 'train')\n",
    "test_data_folder = join(DATA_PATH, 'final', 'test')"
   ]
  },
  {
   "cell_type": "code",
   "execution_count": 18,
   "metadata": {},
   "outputs": [
    {
     "data": {
      "application/vnd.jupyter.widget-view+json": {
       "model_id": "f0c24c0c81604a8cbcb330b840988a36",
       "version_major": 2,
       "version_minor": 0
      },
      "text/plain": [
       "Patients:   0%|          | 0/743 [00:00<?, ?it/s]"
      ]
     },
     "metadata": {},
     "output_type": "display_data"
    },
    {
     "name": "stdout",
     "output_type": "stream",
     "text": [
      "C:/Users/lumin/Desktop/Work/20212/source-code/physionet.org/files/hss/1.0\\train.mat\n",
      "foo\n"
     ]
    }
   ],
   "source": [
    "build_mat_data(train_data_folder)\n",
    "\n",
    "print(\"foo\")"
   ]
  },
  {
   "cell_type": "code",
   "execution_count": 17,
   "metadata": {},
   "outputs": [
    {
     "data": {
      "application/vnd.jupyter.widget-view+json": {
       "model_id": "879c71b4133b4937af7b38df26db0362",
       "version_major": 2,
       "version_minor": 0
      },
      "text/plain": [
       "Patients:   0%|          | 0/199 [00:00<?, ?it/s]"
      ]
     },
     "metadata": {},
     "output_type": "display_data"
    },
    {
     "name": "stdout",
     "output_type": "stream",
     "text": [
      "C:/Users/lumin/Desktop/Work/20212/source-code/physionet.org/files/hss/1.0\\test.mat\n"
     ]
    },
    {
     "name": "stderr",
     "output_type": "stream",
     "text": [
      "c:\\Users\\lumin\\anaconda3\\envs\\py38\\lib\\site-packages\\scipy\\io\\matlab\\mio5.py:493: VisibleDeprecationWarning: Creating an ndarray from ragged nested sequences (which is a list-or-tuple of lists-or-tuples-or ndarrays with different lengths or shapes) is deprecated. If you meant to do this, you must specify 'dtype=object' when creating the ndarray.\n",
      "  narr = np.asanyarray(source)\n"
     ]
    }
   ],
   "source": [
    "build_mat_data(test_data_folder)"
   ]
  },
  {
   "cell_type": "code",
   "execution_count": null,
   "metadata": {},
   "outputs": [],
   "source": []
  }
 ],
 "metadata": {
  "kernelspec": {
   "display_name": "Python 3.8.13 ('py38')",
   "language": "python",
   "name": "python3"
  },
  "language_info": {
   "codemirror_mode": {
    "name": "ipython",
    "version": 3
   },
   "file_extension": ".py",
   "mimetype": "text/x-python",
   "name": "python",
   "nbconvert_exporter": "python",
   "pygments_lexer": "ipython3",
   "version": "3.8.13"
  },
  "orig_nbformat": 4,
  "vscode": {
   "interpreter": {
    "hash": "68e8aaa6874bd48bb187e47dd02de5530f22ef2f500911b0a3c153188765e172"
   }
  }
 },
 "nbformat": 4,
 "nbformat_minor": 2
}
